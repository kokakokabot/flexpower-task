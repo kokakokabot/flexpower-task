{
 "cells": [
  {
   "cell_type": "code",
   "execution_count": 35,
   "metadata": {},
   "outputs": [],
   "source": [
    "import pandas as pd\n",
    "import numpy as np\n",
    "import matplotlib.pyplot as plt"
   ]
  },
  {
   "cell_type": "code",
   "execution_count": 36,
   "metadata": {},
   "outputs": [],
   "source": [
    "dataset = pd.read_csv(\"/workspaces/flexpower-task/Data/cleaned_file.csv\")"
   ]
  },
  {
   "cell_type": "markdown",
   "metadata": {},
   "source": [
    "# Task 2.1\n",
    "\n",
    "How much Wind/PV (Solar) Power was forecasted to produced in German in 2021 [in MWh] on Day Ahead (da) and on Intraday (id). Hint: Be careful: you have values in MW on a quarter hourly basis, think how this translates into hourly values.\n",
    "\n",
    "Each row represents data in a 15-minute interval, so we would have to multiply each of the entries by 0.25 to get the hourly values."
   ]
  },
  {
   "cell_type": "code",
   "execution_count": 37,
   "metadata": {},
   "outputs": [
    {
     "name": "stdout",
     "output_type": "stream",
     "text": [
      "Wind Power (Day-Ahead Forecast) =  115395406.25 MWh\n",
      "Wind Power (Intraday Forecast) =  113478034.5 MWh\n",
      "PV Power (Day-Ahead Forecast) =  46094572.75 MWh\n",
      "PV Power (Intraday Forecast) =  46689891.5 MWh\n"
     ]
    }
   ],
   "source": [
    "# Wind Power (Day-Ahead Forecast)\n",
    "dataset[\"Wind_DA_MWh\"] = dataset[\"Wind Day Ahead Forecast [in MW]\"] * 0.25\n",
    "wind_dayahead = dataset[\"Wind_DA_MWh\"].sum()\n",
    "\n",
    "# Wind Power (Intraday Forecast)\n",
    "dataset[\"Wind_ID_MWh\"] = dataset[\"Wind Intraday Forecast [in MW]\"] * 0.25\n",
    "wind_intraday = dataset[\"Wind_ID_MWh\"].sum()\n",
    "\n",
    "# PV (Solar) Power (Day-Ahead Forecast)\n",
    "dataset[\"PV_DA_MWh\"] = dataset[\"PV Day Ahead Forecast [in MW]\"] * 0.25\n",
    "pv_dayahead = dataset[\"PV_DA_MWh\"].sum()\n",
    "\n",
    "# PV (Solar) Power (Intraday Forecast)\n",
    "dataset[\"PV_ID_MWh\"] = dataset[\"PV Intraday Forecast [in MW]\"] * 0.25\n",
    "pv_intraday = dataset[\"PV_ID_MWh\"].sum()\n",
    "\n",
    "# Printing the results\n",
    "\n",
    "print(\"Wind Power (Day-Ahead Forecast) = \", wind_dayahead, \"MWh\")\n",
    "print(\"Wind Power (Intraday Forecast) = \", wind_intraday, \"MWh\")\n",
    "print(\"PV Power (Day-Ahead Forecast) = \", pv_dayahead, \"MWh\")\n",
    "print(\"PV Power (Intraday Forecast) = \", pv_intraday, \"MWh\")"
   ]
  },
  {
   "cell_type": "markdown",
   "metadata": {},
   "source": [
    "The total forecasted Wind and PV power for 2021 in Germany are as follows:\n",
    "\n",
    "- Wind Power (Day-Ahead Forecast) =  115,395,406.25 MWh\n",
    "- Wind Power (Intraday Forecast) =  113,478,034.5 MWh\n",
    "- PV Power (Day-Ahead Forecast) =  46,094,572.75 MWh\n",
    "- PV Power (Intraday Forecast) =  46,689,891.5 MWh"
   ]
  },
  {
   "cell_type": "markdown",
   "metadata": {},
   "source": [
    "# Task 2.2\n",
    "\n",
    "Show the average Wind/Solar production for 2021 over a 24h period for Intraday and Day Ahead (4 lines in one graph)."
   ]
  },
  {
   "cell_type": "code",
   "execution_count": 39,
   "metadata": {},
   "outputs": [
    {
     "name": "stdout",
     "output_type": "stream",
     "text": [
      "Unnamed: 0                                             int64\n",
      "hour                                                   int64\n",
      "time                                                  object\n",
      "Wind Day Ahead Forecast [in MW]                        int64\n",
      "Wind Intraday Forecast [in MW]                         int64\n",
      "PV Day Ahead Forecast [in MW]                          int64\n",
      "PV Intraday Forecast [in MW]                           int64\n",
      "Day Ahead Price hourly [in EUR/MWh]                  float64\n",
      "Intraday Price Price Quarter Hourly  [in EUR/MWh]    float64\n",
      "Intraday Price Hourly  [in EUR/MWh]                  float64\n",
      "Imbalance Price Quarter Hourly  [in EUR/MWh]         float64\n",
      "Wind_DA_MWh                                          float64\n",
      "Wind_ID_MWh                                          float64\n",
      "PV_DA_MWh                                            float64\n",
      "PV_ID_MWh                                            float64\n",
      "dtype: object\n"
     ]
    }
   ],
   "source": [
    "print(dataset.dtypes)"
   ]
  }
 ],
 "metadata": {
  "language_info": {
   "name": "python"
  }
 },
 "nbformat": 4,
 "nbformat_minor": 2
}
