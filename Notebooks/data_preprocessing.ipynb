{
 "cells": [
  {
   "cell_type": "code",
   "execution_count": 26,
   "metadata": {},
   "outputs": [],
   "source": [
    "import pandas as pd\n",
    "import openpyxl as pyxl"
   ]
  },
  {
   "cell_type": "code",
   "execution_count": 27,
   "metadata": {},
   "outputs": [
    {
     "name": "stdout",
     "output_type": "stream",
     "text": [
      "['DE_Wind_PV_Prices', 'Tasks', 'hint - pivot is your friend']\n"
     ]
    }
   ],
   "source": [
    "# Loading the file and checking which sheeets are available\n",
    "\n",
    "dataset_path = \"/workspaces/flexpower-task/Data/analysis_task_data.xlsx\"\n",
    "\n",
    "whole_dataset = pd.ExcelFile(dataset_path)\n",
    "\n",
    "print(whole_dataset.sheet_names)"
   ]
  },
  {
   "cell_type": "code",
   "execution_count": 28,
   "metadata": {},
   "outputs": [
    {
     "name": "stdout",
     "output_type": "stream",
     "text": [
      "   hour                time  Wind Day Ahead Forecast [in MW]  \\\n",
      "0     0 2021-01-01 00:00:00                             4433   \n",
      "1     0 2021-01-01 00:15:00                             4286   \n",
      "2     0 2021-01-01 00:30:00                             4142   \n",
      "3     0 2021-01-01 00:45:00                             3991   \n",
      "4     1 2021-01-01 01:00:00                             3847   \n",
      "\n",
      "   Wind Intraday Forecast [in MW]  PV Day Ahead Forecast [in MW]  \\\n",
      "0                            4709                              0   \n",
      "1                            4507                              0   \n",
      "2                            4307                              0   \n",
      "3                            4181                              0   \n",
      "4                            4094                              0   \n",
      "\n",
      "   PV Intraday Forecast [in MW]  Day Ahead Price hourly [in EUR/MWh]  \\\n",
      "0                             0                                50.87   \n",
      "1                             0                                50.87   \n",
      "2                             0                                50.87   \n",
      "3                             0                                50.87   \n",
      "4                             0                                48.19   \n",
      "\n",
      "   Intraday Price Price Quarter Hourly  [in EUR/MWh]  \\\n",
      "0                                          44.409894   \n",
      "1                                          52.139142   \n",
      "2                                          50.160255   \n",
      "3                                          41.342082   \n",
      "4                                          64.424013   \n",
      "\n",
      "   Intraday Price Hourly  [in EUR/MWh]  \\\n",
      "0                            48.682294   \n",
      "1                            48.682294   \n",
      "2                            48.682294   \n",
      "3                            48.682294   \n",
      "4                            46.165819   \n",
      "\n",
      "   Imbalance Price Quarter Hourly  [in EUR/MWh]  \n",
      "0                                         13.33  \n",
      "1                                         -0.92  \n",
      "2                                         60.26  \n",
      "3                                        -12.05  \n",
      "4                                         96.09  \n"
     ]
    }
   ],
   "source": [
    "# Loading the main dataset\n",
    "\n",
    "dataset = pd.read_excel(whole_dataset, sheet_name='DE_Wind_PV_Prices')\n",
    "\n",
    "# Printing the first few rows to check the data\n",
    "\n",
    "print(dataset.head())\n"
   ]
  },
  {
   "cell_type": "code",
   "execution_count": 29,
   "metadata": {},
   "outputs": [
    {
     "name": "stdout",
     "output_type": "stream",
     "text": [
      "<class 'pandas.core.frame.DataFrame'>\n",
      "RangeIndex: 35040 entries, 0 to 35039\n",
      "Data columns (total 10 columns):\n",
      " #   Column                                             Non-Null Count  Dtype         \n",
      "---  ------                                             --------------  -----         \n",
      " 0   hour                                               35040 non-null  int64         \n",
      " 1   time                                               35040 non-null  datetime64[ns]\n",
      " 2   Wind Day Ahead Forecast [in MW]                    35040 non-null  int64         \n",
      " 3   Wind Intraday Forecast [in MW]                     35040 non-null  int64         \n",
      " 4   PV Day Ahead Forecast [in MW]                      35040 non-null  int64         \n",
      " 5   PV Intraday Forecast [in MW]                       35040 non-null  int64         \n",
      " 6   Day Ahead Price hourly [in EUR/MWh]                35040 non-null  float64       \n",
      " 7   Intraday Price Price Quarter Hourly  [in EUR/MWh]  35040 non-null  float64       \n",
      " 8   Intraday Price Hourly  [in EUR/MWh]                35040 non-null  float64       \n",
      " 9   Imbalance Price Quarter Hourly  [in EUR/MWh]       35040 non-null  float64       \n",
      "dtypes: datetime64[ns](1), float64(4), int64(5)\n",
      "memory usage: 2.7 MB\n"
     ]
    }
   ],
   "source": [
    "#Info on the dataset to check if they have any errors and they need adjustment\n",
    "\n",
    "dataset.info()"
   ]
  },
  {
   "cell_type": "code",
   "execution_count": 24,
   "metadata": {},
   "outputs": [],
   "source": [
    "# Saving cleaned file\n",
    "\n",
    "dataset.to_excel(\"/workspaces/flexpower-task/Data/cleaned_file.xlsx\")"
   ]
  }
 ],
 "metadata": {
  "kernelspec": {
   "display_name": "Python 3",
   "language": "python",
   "name": "python3"
  },
  "language_info": {
   "codemirror_mode": {
    "name": "ipython",
    "version": 3
   },
   "file_extension": ".py",
   "mimetype": "text/x-python",
   "name": "python",
   "nbconvert_exporter": "python",
   "pygments_lexer": "ipython3",
   "version": "3.12.1"
  }
 },
 "nbformat": 4,
 "nbformat_minor": 2
}
